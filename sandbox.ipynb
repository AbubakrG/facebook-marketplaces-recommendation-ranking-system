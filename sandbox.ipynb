{
 "cells": [
  {
   "cell_type": "code",
   "execution_count": 3,
   "metadata": {},
   "outputs": [
    {
     "name": "stdout",
     "output_type": "stream",
     "text": [
      "       Unnamed: 0                                    id  \\\n",
      "0               0  912bb259-3ad9-457b-9db1-ce1da9016057   \n",
      "1               1  b166d305-b852-4bdd-83f4-465b20da94fa   \n",
      "2               2  68f5a29d-0075-4d60-81c1-ab684a82e50c   \n",
      "3               3  f6a309d7-d247-446a-9b5e-aceefdd4334d   \n",
      "4               4  2c2b3a6f-15b3-4289-937a-15482d9f5781   \n",
      "...           ...                                   ...   \n",
      "12599       12599  cdec1c5c-c4b1-42db-afbe-3fa68ea4b87d   \n",
      "12600       12600  dc99e40f-6b15-494d-9fb7-f0d02e9781f9   \n",
      "12601       12601  c8488028-bf07-4258-a4c2-56d2fe387835   \n",
      "12602       12602  c6113145-89c8-47cd-9211-38f29d016cc7   \n",
      "12603       12603  ed2aaf88-616c-4e6b-af49-bbdf7c0fbd06   \n",
      "\n",
      "                                 product_id  \n",
      "0      5f5f57d7-778f-4336-bb10-b43863418c8c  \n",
      "1      5f5f57d7-778f-4336-bb10-b43863418c8c  \n",
      "2      c2c8949f-3cde-4651-a234-4a4a1b2a9ad4  \n",
      "3      c2c8949f-3cde-4651-a234-4a4a1b2a9ad4  \n",
      "4      8292aa4e-7f1b-4655-bf0e-f1f2c9e3ffaf  \n",
      "...                                     ...  \n",
      "12599  2b0a652b-46a2-4297-b619-5efeeb222787  \n",
      "12600  719fd40a-870e-4144-b324-55dff2e66fb4  \n",
      "12601  719fd40a-870e-4144-b324-55dff2e66fb4  \n",
      "12602  86d1806b-5575-4a7e-9160-f24f12be6c95  \n",
      "12603  86d1806b-5575-4a7e-9160-f24f12be6c95  \n",
      "\n",
      "[12604 rows x 3 columns]\n"
     ]
    }
   ],
   "source": [
    "import pandas as pd\n",
    "import csv\n",
    "import clean_tabular_data\n",
    "\n",
    "\n",
    "data = pd.read_csv(\"images.csv\")\n",
    "print(data)\n",
    "\n",
    "# placeholder_output_data1 = clean_tabular_data.input_data()\n",
    "# #placeholder_output_data2 = clean_tabular_data.clean_price_data()\n",
    "\n",
    "# placeholder_output_data1.df[['cat:0','cat:1','cat:2']] = placeholder_output_data1.df[\"category\"].apply(lambda x: pd.Series(str(x).split(' / ',2)))\n",
    "\n",
    "# print(placeholder_output_data1.df.info())\n",
    "# print(placeholder_output_data1.df.head())\n",
    "\n",
    "# data_images =  clean_tabular_data.input_data('images.csv')\n",
    "# #data_images.df.head()\n",
    "\n",
    "# # Table merge\n",
    "# df_with_category = pd.merge(data_images.df,placeholder_output_data1.df,left_on = 'product_id',right_on ='id',how='inner')\n",
    "# df_with_category.info()\n",
    "# df_with_category.rename(columns={'id_x':'label'})\n",
    "# #df_with_category.to_csv('training_data.csv')"
   ]
  },
  {
   "cell_type": "code",
   "execution_count": 4,
   "metadata": {},
   "outputs": [
    {
     "name": "stdout",
     "output_type": "stream",
     "text": [
      "<class 'list'>\n"
     ]
    }
   ],
   "source": []
  }
 ],
 "metadata": {
  "kernelspec": {
   "display_name": "base",
   "language": "python",
   "name": "python3"
  },
  "language_info": {
   "codemirror_mode": {
    "name": "ipython",
    "version": 3
   },
   "file_extension": ".py",
   "mimetype": "text/x-python",
   "name": "python",
   "nbconvert_exporter": "python",
   "pygments_lexer": "ipython3",
   "version": "3.10.9"
  },
  "orig_nbformat": 4
 },
 "nbformat": 4,
 "nbformat_minor": 2
}
